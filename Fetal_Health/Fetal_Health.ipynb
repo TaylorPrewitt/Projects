{
 "cells": [
  {
   "cell_type": "markdown",
   "id": "3e9b144f",
   "metadata": {},
   "source": [
    "# Fetal Health Metrics"
   ]
  },
  {
   "cell_type": "markdown",
   "id": "5e577dbd",
   "metadata": {},
   "source": [
    "## Introduction\n",
    "\n",
    "#### Context\n",
    "Reduction of child mortality is reflected in several of the United Nations' Sustainable Development Goals and is a key indicator of human progress.\n",
    "The UN expects that by 2030, countries end preventable deaths of newborns and children under 5 years of age, with all countries aiming to reduce under‑5 mortality to at least as low as 25 per 1,000 live births.\n",
    "\n",
    "Parallel to notion of child mortality is of course maternal mortality, which accounts for 295 000 deaths during and following pregnancy and childbirth (as of 2017). The vast majority of these deaths (94%) occurred in low-resource settings, and most could have been prevented.\n",
    "\n",
    "In light of what was mentioned above, Cardiotocograms (CTGs) are a simple and cost accessible option to assess fetal health, allowing healthcare professionals to take action in order to prevent child and maternal mortality. The equipment itself works by sending ultrasound pulses and reading its response, thus shedding light on fetal heart rate (FHR), fetal movements, uterine contractions and more.\n",
    "\n",
    "<br>\n",
    "\n",
    "### Data\n",
    "This dataset contains 2126 records of features extracted from Cardiotocogram exams, which were then classified by three expert obstetritians into 3 classes:\n",
    "\n",
    "- Normal (1)\n",
    "- Suspect (2)\n",
    "- Pathological (3)\n",
    "\n",
    "[Data Source](https://www.kaggle.com/andrewmvd/fetal-health-classification?select=fetal_health.csv)\n",
    "[Data Authors](https://onlinelibrary.wiley.com/doi/10.1002/1520-6661(200009/10)9:5%3C311::AID-MFM12%3E3.0.CO;2-9)\n",
    "\n",
    "<br>\n",
    "\n",
    "### Tasks\n",
    "1) Create a multiclass model to classify the state of fetus. <br>\n",
    "2) Find best evaluation metrics. \n"
   ]
  },
  {
   "cell_type": "code",
   "execution_count": 93,
   "id": "debf8966",
   "metadata": {},
   "outputs": [],
   "source": [
    "# Load in libraries\n",
    "import pandas as pd\n",
    "import numpy as np\n",
    "from sklearn.model_selection import train_test_split\n",
    "from sklearn.ensemble import GradientBoostingRegressor, RandomForestClassifier\n",
    "from sklearn.preprocessing import StandardScaler\n",
    "from sklearn.metrics import confusion_matrix, f1_score, recall_score, precision_score\n",
    "from sklearn.naive_bayes import GaussianNB\n",
    "from sklearn import model_selection\n",
    "from sklearn.svm import SVC\n",
    "import matplotlib.pyplot as plt\n",
    "import seaborn as sns\n",
    "from sklearn.feature_selection import SelectFromModel\n"
   ]
  },
  {
   "cell_type": "markdown",
   "id": "ddb588bd",
   "metadata": {},
   "source": [
    "### Examine Data"
   ]
  },
  {
   "cell_type": "code",
   "execution_count": 42,
   "id": "5d6c8b94",
   "metadata": {},
   "outputs": [],
   "source": [
    "# load in data\n",
    "fetal_data = pd.read_csv('C:/Users/prewi/OneDrive/Documents/Projects-PostSchool/Fetal_Health/fetal_health.csv')\n"
   ]
  },
  {
   "cell_type": "code",
   "execution_count": 43,
   "id": "48257fab",
   "metadata": {},
   "outputs": [
    {
     "data": {
      "text/html": [
       "<div>\n",
       "<style scoped>\n",
       "    .dataframe tbody tr th:only-of-type {\n",
       "        vertical-align: middle;\n",
       "    }\n",
       "\n",
       "    .dataframe tbody tr th {\n",
       "        vertical-align: top;\n",
       "    }\n",
       "\n",
       "    .dataframe thead th {\n",
       "        text-align: right;\n",
       "    }\n",
       "</style>\n",
       "<table border=\"1\" class=\"dataframe\">\n",
       "  <thead>\n",
       "    <tr style=\"text-align: right;\">\n",
       "      <th></th>\n",
       "      <th>baseline value</th>\n",
       "      <th>accelerations</th>\n",
       "      <th>fetal_movement</th>\n",
       "      <th>uterine_contractions</th>\n",
       "      <th>light_decelerations</th>\n",
       "      <th>severe_decelerations</th>\n",
       "      <th>prolongued_decelerations</th>\n",
       "      <th>abnormal_short_term_variability</th>\n",
       "      <th>mean_value_of_short_term_variability</th>\n",
       "      <th>percentage_of_time_with_abnormal_long_term_variability</th>\n",
       "      <th>...</th>\n",
       "      <th>histogram_min</th>\n",
       "      <th>histogram_max</th>\n",
       "      <th>histogram_number_of_peaks</th>\n",
       "      <th>histogram_number_of_zeroes</th>\n",
       "      <th>histogram_mode</th>\n",
       "      <th>histogram_mean</th>\n",
       "      <th>histogram_median</th>\n",
       "      <th>histogram_variance</th>\n",
       "      <th>histogram_tendency</th>\n",
       "      <th>fetal_health</th>\n",
       "    </tr>\n",
       "  </thead>\n",
       "  <tbody>\n",
       "    <tr>\n",
       "      <th>0</th>\n",
       "      <td>120.0</td>\n",
       "      <td>0.000</td>\n",
       "      <td>0.0</td>\n",
       "      <td>0.000</td>\n",
       "      <td>0.000</td>\n",
       "      <td>0.0</td>\n",
       "      <td>0.0</td>\n",
       "      <td>73.0</td>\n",
       "      <td>0.5</td>\n",
       "      <td>43.0</td>\n",
       "      <td>...</td>\n",
       "      <td>62.0</td>\n",
       "      <td>126.0</td>\n",
       "      <td>2.0</td>\n",
       "      <td>0.0</td>\n",
       "      <td>120.0</td>\n",
       "      <td>137.0</td>\n",
       "      <td>121.0</td>\n",
       "      <td>73.0</td>\n",
       "      <td>1.0</td>\n",
       "      <td>2.0</td>\n",
       "    </tr>\n",
       "    <tr>\n",
       "      <th>1</th>\n",
       "      <td>132.0</td>\n",
       "      <td>0.006</td>\n",
       "      <td>0.0</td>\n",
       "      <td>0.006</td>\n",
       "      <td>0.003</td>\n",
       "      <td>0.0</td>\n",
       "      <td>0.0</td>\n",
       "      <td>17.0</td>\n",
       "      <td>2.1</td>\n",
       "      <td>0.0</td>\n",
       "      <td>...</td>\n",
       "      <td>68.0</td>\n",
       "      <td>198.0</td>\n",
       "      <td>6.0</td>\n",
       "      <td>1.0</td>\n",
       "      <td>141.0</td>\n",
       "      <td>136.0</td>\n",
       "      <td>140.0</td>\n",
       "      <td>12.0</td>\n",
       "      <td>0.0</td>\n",
       "      <td>1.0</td>\n",
       "    </tr>\n",
       "    <tr>\n",
       "      <th>2</th>\n",
       "      <td>133.0</td>\n",
       "      <td>0.003</td>\n",
       "      <td>0.0</td>\n",
       "      <td>0.008</td>\n",
       "      <td>0.003</td>\n",
       "      <td>0.0</td>\n",
       "      <td>0.0</td>\n",
       "      <td>16.0</td>\n",
       "      <td>2.1</td>\n",
       "      <td>0.0</td>\n",
       "      <td>...</td>\n",
       "      <td>68.0</td>\n",
       "      <td>198.0</td>\n",
       "      <td>5.0</td>\n",
       "      <td>1.0</td>\n",
       "      <td>141.0</td>\n",
       "      <td>135.0</td>\n",
       "      <td>138.0</td>\n",
       "      <td>13.0</td>\n",
       "      <td>0.0</td>\n",
       "      <td>1.0</td>\n",
       "    </tr>\n",
       "    <tr>\n",
       "      <th>3</th>\n",
       "      <td>134.0</td>\n",
       "      <td>0.003</td>\n",
       "      <td>0.0</td>\n",
       "      <td>0.008</td>\n",
       "      <td>0.003</td>\n",
       "      <td>0.0</td>\n",
       "      <td>0.0</td>\n",
       "      <td>16.0</td>\n",
       "      <td>2.4</td>\n",
       "      <td>0.0</td>\n",
       "      <td>...</td>\n",
       "      <td>53.0</td>\n",
       "      <td>170.0</td>\n",
       "      <td>11.0</td>\n",
       "      <td>0.0</td>\n",
       "      <td>137.0</td>\n",
       "      <td>134.0</td>\n",
       "      <td>137.0</td>\n",
       "      <td>13.0</td>\n",
       "      <td>1.0</td>\n",
       "      <td>1.0</td>\n",
       "    </tr>\n",
       "    <tr>\n",
       "      <th>4</th>\n",
       "      <td>132.0</td>\n",
       "      <td>0.007</td>\n",
       "      <td>0.0</td>\n",
       "      <td>0.008</td>\n",
       "      <td>0.000</td>\n",
       "      <td>0.0</td>\n",
       "      <td>0.0</td>\n",
       "      <td>16.0</td>\n",
       "      <td>2.4</td>\n",
       "      <td>0.0</td>\n",
       "      <td>...</td>\n",
       "      <td>53.0</td>\n",
       "      <td>170.0</td>\n",
       "      <td>9.0</td>\n",
       "      <td>0.0</td>\n",
       "      <td>137.0</td>\n",
       "      <td>136.0</td>\n",
       "      <td>138.0</td>\n",
       "      <td>11.0</td>\n",
       "      <td>1.0</td>\n",
       "      <td>1.0</td>\n",
       "    </tr>\n",
       "  </tbody>\n",
       "</table>\n",
       "<p>5 rows × 22 columns</p>\n",
       "</div>"
      ],
      "text/plain": [
       "   baseline value  accelerations  fetal_movement  uterine_contractions  \\\n",
       "0           120.0          0.000             0.0                 0.000   \n",
       "1           132.0          0.006             0.0                 0.006   \n",
       "2           133.0          0.003             0.0                 0.008   \n",
       "3           134.0          0.003             0.0                 0.008   \n",
       "4           132.0          0.007             0.0                 0.008   \n",
       "\n",
       "   light_decelerations  severe_decelerations  prolongued_decelerations  \\\n",
       "0                0.000                   0.0                       0.0   \n",
       "1                0.003                   0.0                       0.0   \n",
       "2                0.003                   0.0                       0.0   \n",
       "3                0.003                   0.0                       0.0   \n",
       "4                0.000                   0.0                       0.0   \n",
       "\n",
       "   abnormal_short_term_variability  mean_value_of_short_term_variability  \\\n",
       "0                             73.0                                   0.5   \n",
       "1                             17.0                                   2.1   \n",
       "2                             16.0                                   2.1   \n",
       "3                             16.0                                   2.4   \n",
       "4                             16.0                                   2.4   \n",
       "\n",
       "   percentage_of_time_with_abnormal_long_term_variability  ...  histogram_min  \\\n",
       "0                                               43.0       ...           62.0   \n",
       "1                                                0.0       ...           68.0   \n",
       "2                                                0.0       ...           68.0   \n",
       "3                                                0.0       ...           53.0   \n",
       "4                                                0.0       ...           53.0   \n",
       "\n",
       "   histogram_max  histogram_number_of_peaks  histogram_number_of_zeroes  \\\n",
       "0          126.0                        2.0                         0.0   \n",
       "1          198.0                        6.0                         1.0   \n",
       "2          198.0                        5.0                         1.0   \n",
       "3          170.0                       11.0                         0.0   \n",
       "4          170.0                        9.0                         0.0   \n",
       "\n",
       "   histogram_mode  histogram_mean  histogram_median  histogram_variance  \\\n",
       "0           120.0           137.0             121.0                73.0   \n",
       "1           141.0           136.0             140.0                12.0   \n",
       "2           141.0           135.0             138.0                13.0   \n",
       "3           137.0           134.0             137.0                13.0   \n",
       "4           137.0           136.0             138.0                11.0   \n",
       "\n",
       "   histogram_tendency  fetal_health  \n",
       "0                 1.0           2.0  \n",
       "1                 0.0           1.0  \n",
       "2                 0.0           1.0  \n",
       "3                 1.0           1.0  \n",
       "4                 1.0           1.0  \n",
       "\n",
       "[5 rows x 22 columns]"
      ]
     },
     "execution_count": 43,
     "metadata": {},
     "output_type": "execute_result"
    }
   ],
   "source": [
    "fetal_data.head()"
   ]
  },
  {
   "cell_type": "code",
   "execution_count": 44,
   "id": "739dc39e",
   "metadata": {},
   "outputs": [
    {
     "data": {
      "text/plain": [
       "(2126, 22)"
      ]
     },
     "execution_count": 44,
     "metadata": {},
     "output_type": "execute_result"
    }
   ],
   "source": [
    "fetal_data.shape"
   ]
  },
  {
   "cell_type": "code",
   "execution_count": 45,
   "id": "b308e092",
   "metadata": {},
   "outputs": [
    {
     "data": {
      "text/plain": [
       "baseline value                                            float64\n",
       "accelerations                                             float64\n",
       "fetal_movement                                            float64\n",
       "uterine_contractions                                      float64\n",
       "light_decelerations                                       float64\n",
       "severe_decelerations                                      float64\n",
       "prolongued_decelerations                                  float64\n",
       "abnormal_short_term_variability                           float64\n",
       "mean_value_of_short_term_variability                      float64\n",
       "percentage_of_time_with_abnormal_long_term_variability    float64\n",
       "mean_value_of_long_term_variability                       float64\n",
       "histogram_width                                           float64\n",
       "histogram_min                                             float64\n",
       "histogram_max                                             float64\n",
       "histogram_number_of_peaks                                 float64\n",
       "histogram_number_of_zeroes                                float64\n",
       "histogram_mode                                            float64\n",
       "histogram_mean                                            float64\n",
       "histogram_median                                          float64\n",
       "histogram_variance                                        float64\n",
       "histogram_tendency                                        float64\n",
       "fetal_health                                              float64\n",
       "dtype: object"
      ]
     },
     "execution_count": 45,
     "metadata": {},
     "output_type": "execute_result"
    }
   ],
   "source": [
    "fetal_data.dtypes"
   ]
  },
  {
   "cell_type": "code",
   "execution_count": 46,
   "id": "2c5f9923",
   "metadata": {},
   "outputs": [
    {
     "data": {
      "text/plain": [
       "baseline value                                            0\n",
       "accelerations                                             0\n",
       "fetal_movement                                            0\n",
       "uterine_contractions                                      0\n",
       "light_decelerations                                       0\n",
       "severe_decelerations                                      0\n",
       "prolongued_decelerations                                  0\n",
       "abnormal_short_term_variability                           0\n",
       "mean_value_of_short_term_variability                      0\n",
       "percentage_of_time_with_abnormal_long_term_variability    0\n",
       "mean_value_of_long_term_variability                       0\n",
       "histogram_width                                           0\n",
       "histogram_min                                             0\n",
       "histogram_max                                             0\n",
       "histogram_number_of_peaks                                 0\n",
       "histogram_number_of_zeroes                                0\n",
       "histogram_mode                                            0\n",
       "histogram_mean                                            0\n",
       "histogram_median                                          0\n",
       "histogram_variance                                        0\n",
       "histogram_tendency                                        0\n",
       "fetal_health                                              0\n",
       "dtype: int64"
      ]
     },
     "execution_count": 46,
     "metadata": {},
     "output_type": "execute_result"
    }
   ],
   "source": [
    "fetal_data.isna().sum()"
   ]
  },
  {
   "cell_type": "markdown",
   "id": "a0a12a4f",
   "metadata": {},
   "source": [
    "### Training Feature Selection\n",
    "Data is entirely numeric with no missing values. Many of the recorded values are statistical records of observations.  For these tasks, only using features for classification which could be easily available or determined in a clinical setting. For example, a histogram is not considered easily available in a clinical environment, but measuring uterine contractions would be."
   ]
  },
  {
   "cell_type": "code",
   "execution_count": 47,
   "id": "55c8e49f",
   "metadata": {},
   "outputs": [],
   "source": [
    "# Designate learning and class sets \n",
    "X = fetal_data.iloc[:, :11]\n",
    "y = fetal_data.iloc[:, 21]"
   ]
  },
  {
   "cell_type": "code",
   "execution_count": 48,
   "id": "e8253ad9",
   "metadata": {},
   "outputs": [],
   "source": [
    "# create function to test multiple models\n",
    "\n",
    "def model_testing(models, X, y, ts, k_split, seed):\n",
    "    '''\n",
    "    Description\n",
    "    -----------\n",
    "    Function to take in a list of sklearn models and test unoptimized\n",
    "        performance on a dataset.\n",
    "    \n",
    "    Parameters\n",
    "    ----------\n",
    "    models : list\n",
    "        list of sklearn models capable of handling traingin task.\n",
    "    X : pd.DataFrame\n",
    "        DataFrame of training parameters. X is scaled via StandardScaler()\n",
    "    y : pd.DataFrame\n",
    "        DataFrame of true labels.\n",
    "    k_split : int\n",
    "        number of splits for k-fold cross validation.\n",
    "    seed : int\n",
    "        random seed value.\n",
    "\n",
    "    Returns\n",
    "    -------\n",
    "    final : pd.DataFrame\n",
    "        DataFrame of predictions from each model. \n",
    "\n",
    "    '''\n",
    "    \n",
    "    # scaling input parmamters to remove weighting issues\n",
    "    scaler = StandardScaler()\n",
    "    scaler.fit_transform(X)\n",
    "    \n",
    "    # creating traing and testing sets\n",
    "    X_train, X_test, y_train, y_test = train_test_split(X, y, \n",
    "                                                        test_size = ts, \n",
    "                                                        random_state = seed)\n",
    "    \n",
    "    single_model_list = []\n",
    "    model_names = []\n",
    "    # records model name, train time, score time, and cv score for each model\n",
    "    for name, model in models:\n",
    "        kfold = model_selection.KFold(n_splits=k_split, \n",
    "                                      shuffle=True, \n",
    "                                      random_state=seed)\n",
    "        cv_results = model_selection.cross_validate(model, \n",
    "                                                    X_train, \n",
    "                                                    y_train, \n",
    "                                                    cv=kfold)\n",
    "        model_names.append(name)\n",
    "        interm_df = pd.DataFrame(cv_results)\n",
    "        interm_df['model'] = name\n",
    "        single_model_list.append(interm_df)\n",
    "        \n",
    "    # df of outputs from each fold for each model\n",
    "    eval_df = pd.concat(single_model_list, ignore_index=True)\n",
    "    \n",
    "    return eval_df\n"
   ]
  },
  {
   "cell_type": "code",
   "execution_count": 49,
   "id": "ed77f324",
   "metadata": {},
   "outputs": [
    {
     "data": {
      "text/html": [
       "<div>\n",
       "<style scoped>\n",
       "    .dataframe tbody tr th:only-of-type {\n",
       "        vertical-align: middle;\n",
       "    }\n",
       "\n",
       "    .dataframe tbody tr th {\n",
       "        vertical-align: top;\n",
       "    }\n",
       "\n",
       "    .dataframe thead th {\n",
       "        text-align: right;\n",
       "    }\n",
       "</style>\n",
       "<table border=\"1\" class=\"dataframe\">\n",
       "  <thead>\n",
       "    <tr style=\"text-align: right;\">\n",
       "      <th></th>\n",
       "      <th>fit_time</th>\n",
       "      <th>score_time</th>\n",
       "      <th>test_score</th>\n",
       "    </tr>\n",
       "    <tr>\n",
       "      <th>model</th>\n",
       "      <th></th>\n",
       "      <th></th>\n",
       "      <th></th>\n",
       "    </tr>\n",
       "  </thead>\n",
       "  <tbody>\n",
       "    <tr>\n",
       "      <th>GBR</th>\n",
       "      <td>0.088762</td>\n",
       "      <td>0.001998</td>\n",
       "      <td>0.740584</td>\n",
       "    </tr>\n",
       "    <tr>\n",
       "      <th>GNB</th>\n",
       "      <td>0.002326</td>\n",
       "      <td>0.001330</td>\n",
       "      <td>0.837366</td>\n",
       "    </tr>\n",
       "    <tr>\n",
       "      <th>RF</th>\n",
       "      <td>0.140956</td>\n",
       "      <td>0.012633</td>\n",
       "      <td>0.931452</td>\n",
       "    </tr>\n",
       "    <tr>\n",
       "      <th>SVM</th>\n",
       "      <td>0.023937</td>\n",
       "      <td>0.019281</td>\n",
       "      <td>0.831989</td>\n",
       "    </tr>\n",
       "  </tbody>\n",
       "</table>\n",
       "</div>"
      ],
      "text/plain": [
       "       fit_time  score_time  test_score\n",
       "model                                  \n",
       "GBR    0.088762    0.001998    0.740584\n",
       "GNB    0.002326    0.001330    0.837366\n",
       "RF     0.140956    0.012633    0.931452\n",
       "SVM    0.023937    0.019281    0.831989"
      ]
     },
     "execution_count": 49,
     "metadata": {},
     "output_type": "execute_result"
    }
   ],
   "source": [
    "# models to test. \n",
    "models = [('GradientBoostingRegressor', GradientBoostingRegressor()),\n",
    "          ('RandomForestClassifier', RandomForestClassifier()),\n",
    "          ('GaussianNB', GaussianNB()),\n",
    "          ('SVC', SVC())]\n",
    "\n",
    "# evaluate each model, over sets X and y, with test size of 30% using 3-fold cv.\n",
    "eval_df = model_testing(models, X, y, 0.3 ,3, 125)\n",
    "\n",
    "# mean of cv-scores over each model\n",
    "avg_eval_df = eval_df.groupby('model').mean()\n",
    "\n",
    "avg_eval_df"
   ]
  },
  {
   "cell_type": "markdown",
   "id": "734b5b21",
   "metadata": {},
   "source": [
    "### Model Selection\n",
    "\n",
    "While the random forest is the most costly model out of the models tested (by an order of magnitude), it is also the best scoring model. Since the dataset is not large and the number of features is small the cost is not prohibitive. Furthermore, this model is has better explainability than the others with human interpretable results by a non-technical audience. "
   ]
  },
  {
   "cell_type": "code",
   "execution_count": 52,
   "id": "9c044d4e",
   "metadata": {},
   "outputs": [],
   "source": [
    "# preprocessing\n",
    "scaler = StandardScaler()\n",
    "scaler.fit_transform(X)\n",
    "seed = 1234\n",
    "X_train, X_test, y_train, y_test = train_test_split(X, y, test_size = 0.30, \n",
    "                                                    random_state = seed)\n",
    "\n",
    "# loop to find optimal forest depth\n",
    "single_model_list = []\n",
    "for n in range(5,555,5):\n",
    "    rf = RandomForestClassifier(n_estimators=n)\n",
    "    fit = rf.fit(X_train, y_train)\n",
    "    prediction = rf.predict(X_test)\n",
    "    kfold = model_selection.KFold(n_splits=3, \n",
    "                                  shuffle=True, \n",
    "                                  random_state=seed)\n",
    "    cv_results = model_selection.cross_validate(rf, \n",
    "                                                X_train, \n",
    "                                                y_train, \n",
    "                                                cv=kfold)\n",
    "    interm_df = pd.DataFrame(cv_results)\n",
    "    interm_df['n_estimators'] = n\n",
    "    single_model_list.append(interm_df)\n",
    "    \n",
    "    \n",
    "# cv-scores for each k-fold for all tested forest depths\n",
    "eval_rf_df = pd.concat(single_model_list, ignore_index=True)\n",
    "\n"
   ]
  },
  {
   "cell_type": "code",
   "execution_count": 55,
   "id": "c5393991",
   "metadata": {},
   "outputs": [],
   "source": [
    "# mean of cv-scores for each forest depth\n",
    "eval_rf_df = eval_rf_df.groupby('n_estimators').mean()"
   ]
  },
  {
   "cell_type": "code",
   "execution_count": 92,
   "id": "249318b2",
   "metadata": {},
   "outputs": [
    {
     "data": {
      "image/png": "[encoded data removed]",
      "text/plain": [
       "<Figure size 720x720 with 1 Axes>"
      ]
     },
     "metadata": {},
     "output_type": "display_data"
    }
   ],
   "source": [
    "# Visualize effect of depth of forest\n",
    "plt.rcParams[\"figure.figsize\"] = [10, 10]\n",
    "plt.title('CV-Score vs n-estimators', size=20)\n",
    "plt.xlabel('n-estimators')\n",
    "plt.ylabel('cv-score')\n",
    "plt.scatter(eval_rf_df.index, eval_rf_df['test_score'])\n",
    "plt.grid(visible=True, linestyle = '--')\n",
    "plt.show()\n"
   ]
  },
  {
   "cell_type": "code",
   "execution_count": 72,
   "id": "0f0de99c",
   "metadata": {},
   "outputs": [],
   "source": [
    "# use selected depth of forest and make predictions\n",
    "rf = RandomForestClassifier(n_estimators=300)\n",
    "fit = rf.fit(X_train, y_train)\n",
    "prediction = rf.predict(X_test)"
   ]
  },
  {
   "cell_type": "code",
   "execution_count": 79,
   "id": "ac821c35",
   "metadata": {},
   "outputs": [
    {
     "data": {
      "text/plain": [
       "Text(56.5, 0.5, 'Predicted Label')"
      ]
     },
     "execution_count": 79,
     "metadata": {},
     "output_type": "execute_result"
    },
    {
     "data": {
      "image/png": "[encoded data removed]",
      "text/plain": [
       "<Figure size 720x720 with 2 Axes>"
      ]
     },
     "metadata": {},
     "output_type": "display_data"
    }
   ],
   "source": [
    "# confusion matrix of model colorized by count quantity\n",
    "conf_mat = confusion_matrix(y_test , prediction)\n",
    "sns.heatmap(conf_mat.T, \n",
    "            square=True, \n",
    "            annot=True, \n",
    "            fmt='d',\n",
    "            cmap= \"nipy_spectral\",\n",
    "            xticklabels = np.arange(1,4), \n",
    "            yticklabels = np.arange(1,4)\n",
    "           )\n",
    "sns.set(font_scale=2)\n",
    "plt.rcParams[\"figure.figsize\"] = [10, 10]\n",
    "plt.title('RandomForestClassifier(n_estimators=300)', size=25)\n",
    "plt.xlabel(\"True Label\")\n",
    "plt.ylabel('Predicted Label')\n"
   ]
  },
  {
   "cell_type": "markdown",
   "id": "43bb8592",
   "metadata": {},
   "source": []
  },
  {
   "cell_type": "code",
   "execution_count": 88,
   "id": "eae0a91b",
   "metadata": {},
   "outputs": [
    {
     "data": {
      "text/plain": [
       "Index(['baseline value', 'prolongued_decelerations',\n",
       "       'abnormal_short_term_variability'],\n",
       "      dtype='object')"
      ]
     },
     "execution_count": 88,
     "metadata": {},
     "output_type": "execute_result"
    }
   ],
   "source": [
    "selection = SelectFromModel(rf)\n",
    "selection.fit(X_train, y_train)\n",
    "\n",
    "selected_features= X_train.columns[(selection.get_support())]\n",
    "\n",
    "selected_features"
   ]
  },
  {
   "cell_type": "code",
   "execution_count": 100,
   "id": "9fbd6ed6",
   "metadata": {},
   "outputs": [],
   "source": [
    "# set traing parameters using min best features.\n",
    "X_min_feat = X_train[selected_features[0:3]]\n",
    "fit_min_feat = rf.fit(X_min_feat, y_train)\n",
    "prediction_min_feat = rf.predict(X_test[selected_features[0:3]])\n",
    "\n",
    "# set traing parameters using best 6 features.\n",
    "X_6_feat = X_train[selected_features]\n",
    "fit_6_feat = rf.fit(X_6_feat, y_train)\n",
    "prediction_6_feat = rf.predict(X_test[selected_features])"
   ]
  },
  {
   "cell_type": "code",
   "execution_count": 101,
   "id": "badc8cdc",
   "metadata": {},
   "outputs": [
    {
     "data": {
      "text/plain": [
       "Text(56.5, 0.5, 'Predicted Label')"
      ]
     },
     "execution_count": 101,
     "metadata": {},
     "output_type": "execute_result"
    },
    {
     "data": {
      "image/png": "[encoded data removed]",
      "text/plain": [
       "<Figure size 720x720 with 2 Axes>"
      ]
     },
     "metadata": {},
     "output_type": "display_data"
    }
   ],
   "source": [
    "# confusion matrix of model colorized by count quantity\n",
    "conf_mat = confusion_matrix(y_test , prediction_6_feat)\n",
    "sns.heatmap(conf_mat.T, square=True, annot=True, fmt='d',cmap= \"nipy_spectral\",\n",
    "            xticklabels = np.arange(1,4), yticklabels = np.arange(1,4))\n",
    "plt.title('3-Feature Random Forest Classifier')\n",
    "plt.xlabel(\"True Label\")\n",
    "plt.ylabel('Predicted Label')\n"
   ]
  },
  {
   "cell_type": "markdown",
   "id": "39f37b65",
   "metadata": {},
   "source": [
    "Initial inspection of the confusion matrices seems to prove that a three metric evaluation can give a strong intuition for the state of the fetus.\n",
    "\n",
    "\n",
    "In the data however, there is a class imbalance. Class 1 (healthy) has a much higher frequency than classes 2 (Suspect) or 3 (Pathological). To compensate for this, weighted scoring will be used."
   ]
  },
  {
   "cell_type": "code",
   "execution_count": 103,
   "id": "e9d362b0",
   "metadata": {},
   "outputs": [
    {
     "name": "stdout",
     "output_type": "stream",
     "text": [
      "0.9323417546479854\n",
      "0.9274341174081273\n",
      "0.8460337497359658\n",
      "0.9357366771159875\n",
      "0.9310344827586207\n",
      "0.8495297805642633\n",
      "0.9342753746446794\n",
      "0.9316270385021189\n",
      "0.8434917304380369\n"
     ]
    }
   ],
   "source": [
    "# getting f1 scores. Using weighted over macro due to imbalance of classes 1:[2|3]\n",
    "f1_vals = f1_score(y_test,prediction, average='weighted')\n",
    "f1_vals_6 = f1_score(y_test,prediction_6_feat,average='weighted')\n",
    "f1_vals_min = f1_score(y_test,prediction_min_feat,average='weighted')\n",
    "\n",
    "# getting recall scores\n",
    "rec_vals = recall_score(y_test,prediction, average='weighted')\n",
    "rec_vals_6 = recall_score(y_test,prediction_6_feat,average='weighted')\n",
    "rec_vals_min = recall_score(y_test,prediction_min_feat,average='weighted')\n",
    "\n",
    "# getting precision scores\n",
    "pre_vals = precision_score(y_test,prediction, average='weighted')\n",
    "pre_vals_6 = precision_score(y_test,prediction_6_feat,average='weighted')\n",
    "pre_vals_min = precision_score(y_test,prediction_min_feat,average='weighted')\n",
    "\n",
    "\n",
    "print(f1_vals)\n",
    "print(f1_vals_6)\n",
    "print(f1_vals_min)\n",
    "print(rec_vals)\n",
    "print(rec_vals_6)\n",
    "print(rec_vals_min)\n",
    "print(pre_vals)\n",
    "print(pre_vals_6)\n",
    "print(pre_vals_min)\n"
   ]
  },
  {
   "cell_type": "markdown",
   "id": "554860a0",
   "metadata": {},
   "source": [
    "### Classification Performance\n",
    "\n",
    "| **Number of Features**  | **Precision**  |  **Recall**  |  **F1**  | \n",
    "| :----------: | :----------: | :----------: |:----------: |\n",
    "| 11  | 0.9343 | 0.9357  | 0.9323 |\n",
    "| 6  |  0.9316 | 0.9310  | 0.9274 |\n",
    "| 3  | 0.8435 | 0.8495 | 0.8460  |\n"
   ]
  },
  {
   "cell_type": "markdown",
   "id": "fc595cc9",
   "metadata": {},
   "source": [
    "# Discussion\n",
    "\n",
    "### Task 1\n",
    "Each model ('GradientBoostingRegressor','RandomForestClassifier', 'GaussianNB', 'SVC') was able to appropriately label the multiclass data without any hyperparameter tuning. \n",
    "\n",
    "The models ranked as followed:  \n",
    "- **Speed**: The GaussianNB model was the fastest of the four models and RandomForestClassifier was the slowest. GaussianNB was two orders of magnitude faster at training than the RandomForestClassifier.  \n",
    "\n",
    "- **Scoring**: The RandomForestClassifier (score: 0.9315) was the best at labeling classes, and the GradientBoostingRegressor (score: 0.7406) was the worst out of the four.\n",
    "\n",
    "<br>\n",
    "\n",
    "### Task 2\n",
    "The top features to determine the state of a fetus were: 'baseline value', 'prolongued_decelerations', 'abnormal_short_term_variability'. While the performance of the model trained was not fully optimized so it should not be used in a diagnostic setting, the metrics it uncovered could be.  \n",
    "These metrics could be used by medical staff as key indicators in diagnostics and patient treatment.    Monitoring the fetal heart rate in a single office visit would be able to yield a strong intuition to the fetal health \n",
    "\n",
    "\n",
    "\n",
    "\n",
    "\n",
    "\n"
   ]
  }
 ],
 "metadata": {
  "kernelspec": {
   "display_name": "Python 3",
   "language": "python",
   "name": "python3"
  },
  "language_info": {
   "codemirror_mode": {
    "name": "ipython",
    "version": 3
   },
   "file_extension": ".py",
   "mimetype": "text/x-python",
   "name": "python",
   "nbconvert_exporter": "python",
   "pygments_lexer": "ipython3",
   "version": "3.8.5"
  }
 },
 "nbformat": 4,
 "nbformat_minor": 5
}
